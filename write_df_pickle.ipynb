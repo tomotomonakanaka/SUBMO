{
 "cells": [
  {
   "cell_type": "markdown",
   "metadata": {},
   "source": [
    "# Import Modules"
   ]
  },
  {
   "cell_type": "code",
   "execution_count": 1,
   "metadata": {},
   "outputs": [
    {
     "output_type": "stream",
     "name": "stdout",
     "text": [
      "2020.09.1\n"
     ]
    }
   ],
   "source": [
    "import pandas as pd\n",
    "import rdkit\n",
    "from rdkit import rdBase, Chem, DataStructs\n",
    "from rdkit.Avalon import pyAvalonTools\n",
    "from rdkit.Chem import AllChem, Draw, MolFromSmiles\n",
    "from rdkit.Chem.Fingerprints import FingerprintMols\n",
    "from rdkit.Chem.AtomPairs import Pairs, Torsions\n",
    "import pickle\n",
    "from utils.algorithms import greedy_baseline, greedy_logdet_max\n",
    "import numpy as np\n",
    "import random\n",
    "import matplotlib.pyplot as plt\n",
    "import seaborn as sns\n",
    "print(rdBase.rdkitVersion)\n",
    "\n",
    "\n",
    "single_tasks = ['qm9']\n",
    "model_name = '_attentivefp_'\n",
    "nums = ['_1', '_2', '_3', '_4', '_5']"
   ]
  },
  {
   "cell_type": "markdown",
   "metadata": {},
   "source": [
    "# Make Real Property Values"
   ]
  },
  {
   "cell_type": "code",
   "execution_count": 19,
   "metadata": {},
   "outputs": [],
   "source": [
    "# make df e.g. df['qm9']['_3']\n",
    "df = {}\n",
    "for task_name in single_tasks:\n",
    "    if task_name not in df:\n",
    "        df[task_name] = {}\n",
    "        df[task_name + '_normalize'] = {}\n",
    "    for num in nums:\n",
    "        with open('./save_pickle/'+task_name+model_name+task_name+'_relu'+num+'_predicted_data.pickle', 'rb') as f:\n",
    "            df[task_name][num] = pickle.load(f)\n",
    "        with open('./save_pickle/'+task_name+model_name+task_name+'_normalize_relu'+num+'_predicted_data.pickle', 'rb') as f:\n",
    "            df[task_name + '_normalize'][num] = pickle.load(f)\n",
    "\n",
    "# calculate real values for qm9 properties\n",
    "for task_name in df:\n",
    "    for num in nums:\n",
    "        for prop in df[task_name][num].columns:\n",
    "            if prop == 'mols':\n",
    "                break\n",
    "            mean = processed[0][prop].mean()\n",
    "            std = processed[0][prop].std()\n",
    "            df[task_name][num]['pred ' + prop] = df[task_name][num]['pred ' + prop]*std + mean\n",
    "            df[task_name][num][prop] = df[task_name][num][prop]*std + mean"
   ]
  },
  {
   "source": [
    "# Calculate Intrinsic Values"
   ],
   "cell_type": "markdown",
   "metadata": {}
  },
  {
   "cell_type": "code",
   "execution_count": 5,
   "metadata": {},
   "outputs": [],
   "source": [
    "from utils.calc_chem import get_natom, get_nelec\n",
    "\n",
    "for task_name in df:\n",
    "    for num in nums:\n",
    "        df[task_name][num]['Nelec'] = df[task_name][num]['mols'].apply(get_nelec)\n",
    "        df[task_name][num]['Natom'] = df[task_name][num]['mols'].apply(get_natom)\n",
    "        df[task_name][num]['u0/Nelec'] = df[task_name][num]['u0'] / df[task_name][num]['Nelec']\n",
    "        df[task_name][num]['u298/Nelec'] = df[task_name][num]['u298'] / df[task_name][num]['Nelec']\n",
    "        df[task_name][num]['h298/Nelec'] = df[task_name][num]['h298'] / df[task_name][num]['Nelec']\n",
    "        df[task_name][num]['g298/Nelec'] = df[task_name][num]['g298'] / df[task_name][num]['Nelec']\n",
    "        df[task_name][num]['cv/3n-6'] = df[task_name][num].apply(lambda x: x['cv'] / (3 * get_natom(x['mols']) - 6), axis = 1)"
   ]
  },
  {
   "source": [
    "# Calculate MACCS Key and ECFP & Binary Based Selection"
   ],
   "cell_type": "markdown",
   "metadata": {}
  },
  {
   "cell_type": "code",
   "execution_count": 9,
   "metadata": {},
   "outputs": [],
   "source": [
    "# calculate maccs key and ecfp\n",
    "with open('./save_pickle/qm9_atom_edge_data.pickle', 'rb') as f:\n",
    "    processed = pickle.load(f)\n",
    "\n",
    "maccs = [AllChem.GetMACCSKeysFingerprint(mol) for mol in df['qm9']['_1']['mols']]\n",
    "ecfp = [AllChem.GetMorganFingerprint(mol, 2) for mol in df['qm9']['_1']['mols']]\n",
    "\n",
    "for task_name in df:\n",
    "    for num in nums:\n",
    "        df[task_name][num]['maccs'] = maccs\n",
    "        df[task_name][num]['ecfp'] = ecfp"
   ]
  },
  {
   "cell_type": "code",
   "execution_count": 11,
   "metadata": {},
   "outputs": [
    {
     "name": "stdout",
     "output_type": "stream",
     "text": [
      "_1\n",
      "_2\n",
      "_3\n",
      "_4\n",
      "_5\n"
     ]
    }
   ],
   "source": [
    "# selection using Tanimoto Coefficients\n",
    "for task_name in df:\n",
    "    for num in nums:\n",
    "        df[task_name][num] = greedy_baseline(df[task_name][num], 0.01, 'Tanimoto', rule='maxsum', vector='_maccs')\n",
    "        df[task_name][num] = greedy_baseline(df[task_name][num], 0.01, 'Tanimoto', rule='maxmin', vector='_maccs')\n",
    "        df[task_name][num] = greedy_baseline(df[task_name][num], 0.01, 'Tanimoto', rule='maxsum', vector='_ecfp')\n",
    "        df[task_name][num] = greedy_baseline(df[task_name][num], 0.01, 'Tanimoto', rule='maxmin', vector='_ecfp')"
   ]
  },
  {
   "source": [
    "# Add random sampling"
   ],
   "cell_type": "markdown",
   "metadata": {}
  },
  {
   "cell_type": "code",
   "execution_count": null,
   "metadata": {},
   "outputs": [],
   "source": [
    "# add random ranking\n",
    "for num in nums:\n",
    "    select = np.random.choice(range(n_mols), n_select, replace = False)\n",
    "    random_rank = np.ones(n_mols) * n_mols\n",
    "    random_rank[select] = np.arange(n_select)\n",
    "    random_rank = list(map(int, random_rank))\n",
    "    np.random.seed(int(num[-1]))\n",
    "    for task_name in df:\n",
    "        df[task_name][num]['random_ranking'] = random_rank"
   ]
  },
  {
   "source": [
    "# Save"
   ],
   "cell_type": "markdown",
   "metadata": {}
  },
  {
   "cell_type": "code",
   "execution_count": 13,
   "metadata": {},
   "outputs": [],
   "source": [
    "import pickle\n",
    "pickle.dump(df, open( \"./save_pickle/result_df.p\", \"wb\" ))"
   ]
  },
  {
   "cell_type": "markdown",
   "metadata": {},
   "source": [
    "# Load"
   ]
  },
  {
   "cell_type": "code",
   "execution_count": 2,
   "metadata": {},
   "outputs": [],
   "source": [
    "# if pickle is saved\n",
    "import pickle \n",
    "df = pickle.load(open(\"./save_pickle/result_df.p\", \"rb\"))\n"
   ]
  },
  {
   "cell_type": "code",
   "execution_count": 4,
   "metadata": {},
   "outputs": [],
   "source": [
    "from utils.calc_chem import get_natom"
   ]
  },
  {
   "cell_type": "code",
   "execution_count": 5,
   "metadata": {},
   "outputs": [],
   "source": [
    "# divide values by nelec or natom\n",
    "for task_name in df:\n",
    "    for num in nums:\n",
    "        df[task_name][num]['zpve/3n-6'] = df[task_name][num].apply(lambda x: x['zpve'] / (3 * get_natom(x['mols']) - 6), axis = 1)"
   ]
  },
  {
   "cell_type": "code",
   "execution_count": 8,
   "metadata": {},
   "outputs": [
    {
     "output_type": "error",
     "ename": "TypeError",
     "evalue": "unhashable type: 'list'",
     "traceback": [
      "\u001b[0;31m---------------------------------------------------------------------------\u001b[0m",
      "\u001b[0;31mTypeError\u001b[0m                                 Traceback (most recent call last)",
      "\u001b[0;32m<ipython-input-8-54c3fb860de8>\u001b[0m in \u001b[0;36m<module>\u001b[0;34m\u001b[0m\n\u001b[1;32m      7\u001b[0m        \u001b[0;34m'cv/3n-6'\u001b[0m\u001b[0;34m,\u001b[0m \u001b[0;34m'maccs'\u001b[0m\u001b[0;34m,\u001b[0m \u001b[0;34m'ecfp'\u001b[0m\u001b[0;34m,\u001b[0m \u001b[0;34m'maxsum_dissim_ranking_maccs'\u001b[0m\u001b[0;34m,\u001b[0m\u001b[0;34m\u001b[0m\u001b[0;34m\u001b[0m\u001b[0m\n\u001b[1;32m      8\u001b[0m        \u001b[0;34m'maxmin_dissim_ranking_maccs'\u001b[0m\u001b[0;34m,\u001b[0m \u001b[0;34m'maxsum_dissim_ranking_ecfp'\u001b[0m\u001b[0;34m,\u001b[0m\u001b[0;34m\u001b[0m\u001b[0;34m\u001b[0m\u001b[0m\n\u001b[0;32m----> 9\u001b[0;31m        'maxmin_dissim_ranking_ecfp', 'random_ranking', 'zpve/3n-6']]\n\u001b[0m",
      "\u001b[0;31mTypeError\u001b[0m: unhashable type: 'list'"
     ]
    }
   ],
   "source": []
  },
  {
   "cell_type": "code",
   "execution_count": 11,
   "metadata": {},
   "outputs": [],
   "source": [
    "for task_name in df:\n",
    "    for num in nums:\n",
    "        df[task_name][num] = df[task_name][num].reindex(columns=['mu', 'alpha', 'homo', 'lumo', 'gap', 'r2', 'zpve', 'u0', 'u298',\n",
    "       'h298', 'g298', 'cv', 'mols', 'smiles', 'pred mu', 'pred alpha',\n",
    "       'pred homo', 'pred lumo', 'pred gap', 'pred r2', 'pred zpve', 'pred u0',\n",
    "       'pred u298', 'pred h298', 'pred g298', 'pred cv', 'embedding',\n",
    "       'logdet_ranking', 'maxsum_dissim_ranking', 'maxmin_dissim_ranking',\n",
    "       'Nelec', 'Natom', 'u0/Nelec', 'u298/Nelec', 'h298/Nelec', 'g298/Nelec',\n",
    "       'cv/3n-6', 'zpve/3n-6', 'maccs', 'ecfp', 'maxsum_dissim_ranking_maccs',\n",
    "       'maxmin_dissim_ranking_maccs', 'maxsum_dissim_ranking_ecfp',\n",
    "       'maxmin_dissim_ranking_ecfp', 'random_ranking'])"
   ]
  },
  {
   "cell_type": "code",
   "execution_count": 12,
   "metadata": {},
   "outputs": [
    {
     "output_type": "execute_result",
     "data": {
      "text/plain": [
       "Index(['mu', 'alpha', 'homo', 'lumo', 'gap', 'r2', 'zpve', 'u0', 'u298',\n",
       "       'h298', 'g298', 'cv', 'mols', 'smiles', 'pred mu', 'pred alpha',\n",
       "       'pred homo', 'pred lumo', 'pred gap', 'pred r2', 'pred zpve', 'pred u0',\n",
       "       'pred u298', 'pred h298', 'pred g298', 'pred cv', 'embedding',\n",
       "       'logdet_ranking', 'maxsum_dissim_ranking', 'maxmin_dissim_ranking',\n",
       "       'Nelec', 'Natom', 'u0/Nelec', 'u298/Nelec', 'h298/Nelec', 'g298/Nelec',\n",
       "       'cv/3n-6', 'zpve/3n-6', 'maccs', 'ecfp', 'maxsum_dissim_ranking_maccs',\n",
       "       'maxmin_dissim_ranking_maccs', 'maxsum_dissim_ranking_ecfp',\n",
       "       'maxmin_dissim_ranking_ecfp', 'random_ranking'],\n",
       "      dtype='object')"
      ]
     },
     "metadata": {},
     "execution_count": 12
    }
   ],
   "source": [
    "df['qm9']['_1'].keys()"
   ]
  }
 ],
 "metadata": {
  "kernelspec": {
   "name": "python3710jvsc74a57bd031151defd8be7a1099b700cf467fba01da083eb76ce887e632fe5b3fcf6beb70",
   "display_name": "Python 3.7.10 64-bit ('my-rdkit-env': conda)"
  },
  "language_info": {
   "codemirror_mode": {
    "name": "ipython",
    "version": 3
   },
   "file_extension": ".py",
   "mimetype": "text/x-python",
   "name": "python",
   "nbconvert_exporter": "python",
   "pygments_lexer": "ipython3",
   "version": "3.7.10"
  }
 },
 "nbformat": 4,
 "nbformat_minor": 4
}