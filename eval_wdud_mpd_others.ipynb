{
 "cells": [
  {
   "cell_type": "code",
   "execution_count": 1,
   "metadata": {},
   "outputs": [
    {
     "name": "stdout",
     "output_type": "stream",
     "text": [
      "2020.09.1\n"
     ]
    }
   ],
   "source": [
    "import numpy as np\n",
    "from matplotlib import pyplot as plt \n",
    "import pandas as pd\n",
    "import seaborn as sns\n",
    "from rdkit import rdBase, Chem, DataStructs\n",
    "from rdkit.Avalon import pyAvalonTools\n",
    "from rdkit.Chem import AllChem, Draw\n",
    "from rdkit.Chem.Fingerprints import FingerprintMols\n",
    "from rdkit.Chem.AtomPairs import Pairs, Torsions\n",
    "import pickle\n",
    "from utils.algorithms import greedy_baseline\n",
    "from evaluation.evaluation import cdf_wdud, dfs2wds, dfs2mpd\n",
    "import random   \n",
    "import pickle \n",
    "\n",
    "from utils.algorithms import greedy_wasserstein\n",
    "print(rdBase.rdkitVersion)\n",
    "\n",
    "\n",
    "\n",
    "\n",
    "tasks = ['delaney', 'sampl', 'lipo']\n",
    "model_name = '_attentivefp_'\n",
    "nums = ['_1', '_2', '_3', '_4', '_5']\n",
    "properties = {'delaney':['measured log solubility in mols per litre'], 'sampl':['expt'], 'lipo':['exp']}\n",
    "\n",
    "# load data\n",
    "df = pickle.load(open(\"/Users/nakamura.tomohiro/Codes/SciRepRevision/SUBMO/save_pickle/result_df_others.p\", \"rb\"))\n",
    "\n",
    "n_select = 100\n"
   ]
  },
  {
   "cell_type": "code",
   "execution_count": 2,
   "metadata": {},
   "outputs": [],
   "source": [
    "for task_name in tasks:\n",
    "    for num in nums:\n",
    "        df[task_name][num]['maxsum_dissim_ranking_maccs'] = df[task_name]['_1']['maxsum_dissim_ranking_maccs']\n",
    "        df[task_name][num]['maxsum_dissim_ranking_ecfp'] = df[task_name]['_1']['maxsum_dissim_ranking_ecfp']\n",
    "        df[task_name][num]['maxmin_dissim_ranking_maccs'] = df[task_name]['_1']['maxmin_dissim_ranking_maccs']\n",
    "        df[task_name][num]['maxmin_dissim_ranking_ecfp'] = df[task_name]['_1']['maxmin_dissim_ranking_ecfp']"
   ]
  },
  {
   "cell_type": "markdown",
   "metadata": {},
   "source": [
    "# Caluculate Wasserstein Distances"
   ]
  },
  {
   "cell_type": "code",
   "execution_count": 3,
   "metadata": {},
   "outputs": [],
   "source": [
    "# make new dataframe, wasserstein_distances.\n",
    "wasserstein_distances = pd.DataFrame([])\n",
    "gnn_based = ['logdet_ranking', 'maxsum_dissim_ranking', 'maxmin_dissim_ranking', 'random_ranking']\n",
    "binary_based = ['maxsum_dissim_ranking_maccs', 'maxmin_dissim_ranking_maccs', 'maxsum_dissim_ranking_ecfp', 'maxmin_dissim_ranking_ecfp']\n",
    "wasser_based = ['wgreedy_ranking']\n",
    "\n",
    "for task in tasks:\n",
    "    distances = dfs2wds(df[task], gnn_based, n_select, properties[task])\n",
    "    wasserstein_distances = pd.concat([wasserstein_distances, distances])\n",
    "\n",
    "    distances = dfs2wds(df[task+'_normalize'], gnn_based, n_select, properties[task])\n",
    "    distances['method'] = distances['method'].apply(lambda x: x+'_normalize')\n",
    "    wasserstein_distances = pd.concat([wasserstein_distances, distances])\n",
    "\n",
    "    distances = dfs2wds(df[task], binary_based, n_select, properties[task])\n",
    "    wasserstein_distances = pd.concat([wasserstein_distances, distances])\n",
    "\n",
    "    distances = dfs2wds(df[task], wasser_based, n_select, properties[task])\n",
    "    wasserstein_distances = pd.concat([wasserstein_distances, distances])"
   ]
  },
  {
   "cell_type": "code",
   "execution_count": 4,
   "metadata": {},
   "outputs": [],
   "source": [
    "# add random mean values for rescaling\n",
    "wasserstein_distances['random_average'] = 0\n",
    "for task in tasks:\n",
    "    for prop in properties[task]:\n",
    "        random_average = wasserstein_distances[(wasserstein_distances['property'] == prop) & (wasserstein_distances['method'] == 'random_ranking')]['distance'].mean()\n",
    "        wasserstein_distances.loc[wasserstein_distances['property'] == prop, 'random_average'] = random_average\n",
    "\n",
    "wasserstein_distances['scaled_distance'] = wasserstein_distances['distance'] / wasserstein_distances['random_average']"
   ]
  },
  {
   "cell_type": "code",
   "execution_count": 5,
   "metadata": {},
   "outputs": [],
   "source": [
    "# save wdud values\n",
    "pickle.dump(wasserstein_distances, open( \"./evaluation/wdud_values_others.p\", \"wb\" ))\n",
    "\n",
    "df_mean = wasserstein_distances.groupby(['method', 'property']).mean()\n",
    "df_mean.to_csv(\"./evaluation/wdud_mean_others.csv\")\n",
    "\n",
    "df_std = wasserstein_distances.groupby(['method', 'property']).std()\n",
    "df_std.to_csv(\"./evaluation/wdud_std_others.csv\")"
   ]
  },
  {
   "cell_type": "markdown",
   "metadata": {},
   "source": [
    "# Barplot Wasserstein Distances"
   ]
  },
  {
   "cell_type": "code",
   "execution_count": 8,
   "metadata": {},
   "outputs": [],
   "source": [
    "with open('./evaluation/wdud_values_others.p', 'rb') as f:\n",
    "    wasserstein_distances = pickle.load(f)\n",
    "\n",
    "main_method_labels = ['SubMo-GNN', 'MS-MK', 'MM-MK', 'MS-EF', 'MM-EF', 'WG-GNN', 'Random']\n",
    "ablation_method_labels = ['SubMo w/o N', 'SubMo w/ N', 'MS w/o N', 'MS w/ N', 'MM w/o N', 'MM w/ N', 'Random']"
   ]
  },
  {
   "cell_type": "code",
   "execution_count": null,
   "metadata": {},
   "outputs": [],
   "source": [
    "methods = ['logdet_ranking_normalize', 'maxsum_dissim_ranking_maccs', 'maxmin_dissim_ranking_maccs', 'maxsum_dissim_ranking_ecfp', 'maxmin_dissim_ranking_ecfp', 'wgreedy_ranking', 'random_ranking']\n",
    "plotdf = wasserstein_distances[wasserstein_distances['method'].isin(methods)]\n",
    "\n",
    "properties_lists = [\n",
    "    ['measured log solubility in mols per litre', 'expt', 'exp'],\n",
    "]\n",
    "\n",
    "property_labels_lists = [\n",
    "    ['ESOL', 'SAMPL', 'Lipophilicity'],  \n",
    "]\n",
    "\n",
    "for i in range(1):\n",
    "    properties = properties_lists[i]\n",
    "    property_labels = property_labels_lists[i]\n",
    "    plotdf_i = plotdf[plotdf['property'].isin(properties)]\n",
    "\n",
    "    plt.clf()\n",
    "    sns.set(font_scale=2)\n",
    "    plt.figure(figsize=(20, 6))\n",
    "    ax = sns.barplot(x=\"property\", y=\"scaled_distance\", hue='method',hue_order=methods, ci='sd', data=plotdf_i)\n",
    "    ax.set(ylabel='WDUD (rescaled)', xlabel='Property')\n",
    "    ax.set_xticklabels(property_labels)\n",
    "    handles, labels = ax.get_legend_handles_labels()\n",
    "    ax.legend(handles=handles, labels=main_method_labels, loc = 'lower right', ncol=3)\n",
    "    plt.tight_layout(pad=0,w_pad=0, h_pad=0)\n",
    "    plt.savefig('./evaluation/weval_main_{}_others.png'.format(i+1))\n",
    "#plt.show()"
   ]
  },
  {
   "cell_type": "markdown",
   "metadata": {},
   "source": [
    "# Caluculate MPD"
   ]
  },
  {
   "cell_type": "code",
   "execution_count": 3,
   "metadata": {},
   "outputs": [],
   "source": [
    "mpds = pd.DataFrame([])\n",
    "\n",
    "gnn_based = ['logdet_ranking', 'maxsum_dissim_ranking', 'maxmin_dissim_ranking', 'random_ranking']\n",
    "binary_based = ['maxsum_dissim_ranking_maccs', 'maxmin_dissim_ranking_maccs', 'maxsum_dissim_ranking_ecfp', 'maxmin_dissim_ranking_ecfp']\n",
    "wasser_based = ['wgreedy_ranking']\n",
    "\n",
    "for task in tasks:\n",
    "    mpds = pd.concat([mpds, dfs2mpd(df[task], gnn_based, n_select, task)])\n",
    "\n",
    "    mpd = dfs2mpd(df[task+'_normalize'], gnn_based, n_select, task)\n",
    "    mpd['method'] = mpd['method'].apply(lambda x: x+'_normalize')\n",
    "    mpds = pd.concat([mpds, mpd])\n",
    "\n",
    "    mpds = pd.concat([mpds, dfs2mpd(df[task], binary_based, n_select, task)])\n",
    "    mpds = pd.concat([mpds, dfs2mpd(df[task], wasser_based, n_select, task)])"
   ]
  },
  {
   "cell_type": "code",
   "execution_count": 5,
   "metadata": {},
   "outputs": [],
   "source": [
    "pickle.dump(mpds, open( \"./evaluation/mpd_values_others.p\", \"wb\" ))\n",
    "\n",
    "df_mean = mpds.groupby(['method', 'fingerprint']).mean()\n",
    "df_mean.to_csv(\"./evaluation/mpd_mean_others.csv\")\n",
    "\n",
    "df_std = mpds.groupby(['method', 'fingerprint']).std()\n",
    "df_std.to_csv(\"./evaluation/mpd_std_others.csv\")"
   ]
  },
  {
   "cell_type": "markdown",
   "metadata": {},
   "source": [
    "# Barplot MPD"
   ]
  },
  {
   "cell_type": "code",
   "execution_count": 18,
   "metadata": {},
   "outputs": [],
   "source": [
    "with open('./evaluation/mpd_values_others.p', 'rb') as f:\n",
    "    mpds = pickle.load(f)\n",
    "\n",
    "mpds['fingerprint'] = mpds['task']+' '+mpds['fingerprint']"
   ]
  },
  {
   "cell_type": "code",
   "execution_count": null,
   "metadata": {},
   "outputs": [],
   "source": [
    "methods = ['logdet_ranking_normalize', 'maxsum_dissim_ranking_maccs', 'maxmin_dissim_ranking_maccs', 'maxsum_dissim_ranking_ecfp', 'maxmin_dissim_ranking_ecfp', 'wgreedy_ranking', 'random_ranking']\n",
    "main_method_labels = ['SUBMO-GNN', 'MS-MK', 'MM-MK', 'MS-EF', 'MM-EF', 'WG-GNN', 'RANDOM']\n",
    "plotdf = mpds[mpds['method'].isin(methods)]\n",
    "\n",
    "\n",
    "plt.clf()\n",
    "sns.set(font_scale=2)\n",
    "plt.figure(figsize=(20, 6))\n",
    "ax = sns.barplot(x=\"fingerprint\", y=\"mpd\", hue='method',hue_order=methods, ci='sd', data=plotdf)\n",
    "ax.set(ylabel='Value', xlabel='')\n",
    "ax.set_xticklabels(['MPD-ESOL-MK', 'MPD-ESOL-EF', 'MPD-SAMPL-MK', 'MPD-SAMPL-EF', 'MPD-Lipophilicity-MK', 'MPD-Lipophilicity-EF'])\n",
    "handles, labels = ax.get_legend_handles_labels()\n",
    "ax.legend(handles=handles, labels=main_method_labels, loc = 'lower right', ncol=2)\n",
    "plt.ylim([.5, 1])\n",
    "#plt.tight_layout(pad=0,w_pad=0, h_pad=0)\n",
    "plt.tight_layout()\n",
    "plt.savefig('./evaluation/mpd_eval_others.png')\n",
    "#plt.show()"
   ]
  },
  {
   "cell_type": "code",
   "execution_count": null,
   "metadata": {},
   "outputs": [],
   "source": []
  },
  {
   "cell_type": "code",
   "execution_count": null,
   "metadata": {},
   "outputs": [],
   "source": []
  },
  {
   "cell_type": "code",
   "execution_count": null,
   "metadata": {},
   "outputs": [],
   "source": []
  }
 ],
 "metadata": {
  "interpreter": {
   "hash": "31151defd8be7a1099b700cf467fba01da083eb76ce887e632fe5b3fcf6beb70"
  },
  "kernelspec": {
   "display_name": "Python 3.7.10 64-bit ('my-rdkit-env': conda)",
   "name": "python3"
  },
  "language_info": {
   "codemirror_mode": {
    "name": "ipython",
    "version": 3
   },
   "file_extension": ".py",
   "mimetype": "text/x-python",
   "name": "python",
   "nbconvert_exporter": "python",
   "pygments_lexer": "ipython3",
   "version": "3.7.10"
  },
  "orig_nbformat": 2
 },
 "nbformat": 4,
 "nbformat_minor": 2
}
