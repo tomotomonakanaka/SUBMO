{
 "cells": [
  {
   "cell_type": "code",
   "execution_count": 8,
   "metadata": {},
   "outputs": [
    {
     "name": "stdout",
     "output_type": "stream",
     "text": [
      "2020.09.1\n"
     ]
    }
   ],
   "source": [
    "import numpy as np\n",
    "from matplotlib import pyplot as plt \n",
    "import pandas as pd\n",
    "import seaborn as sns\n",
    "from rdkit import rdBase, Chem, DataStructs\n",
    "from rdkit.Avalon import pyAvalonTools\n",
    "from rdkit.Chem import AllChem, Draw\n",
    "from rdkit.Chem.Fingerprints import FingerprintMols\n",
    "from rdkit.Chem.AtomPairs import Pairs, Torsions\n",
    "import pickle\n",
    "from utils.algorithms import greedy_baseline\n",
    "from evaluation.evaluation import cdf_wdud, dfs2wds, dfs2mpd\n",
    "import random   \n",
    "import pickle \n",
    "\n",
    "from utils.algorithms import greedy_wasserstein\n",
    "print(rdBase.rdkitVersion)\n",
    "\n",
    "\n",
    "\n",
    "\n",
    "tasks = ['delaney', 'sampl', 'lipo']\n",
    "model_name = '_attentivefp_'\n",
    "nums = ['_1', '_2', '_3', '_4', '_5']\n",
    "properties = {'delaney':['measured log solubility in mols per litre'], 'sampl':['expt'], 'lipo':['exp']}\n",
    "\n",
    "# load data\n",
    "df = pickle.load(open(\"/Users/nakamura.tomohiro/Codes/SciRepRevision/SUBMO/save_pickle/result_df_others.p\", \"rb\"))\n",
    "\n",
    "n_select = 100\n"
   ]
  },
  {
   "cell_type": "code",
   "execution_count": 9,
   "metadata": {},
   "outputs": [],
   "source": [
    "for task_name in tasks:\n",
    "    for num in nums:\n",
    "        df[task_name][num]['maxsum_dissim_ranking_maccs'] = df[task_name]['_1']['maxsum_dissim_ranking_maccs']\n",
    "        df[task_name][num]['maxsum_dissim_ranking_ecfp'] = df[task_name]['_1']['maxsum_dissim_ranking_ecfp']\n",
    "        df[task_name][num]['maxmin_dissim_ranking_maccs'] = df[task_name]['_1']['maxmin_dissim_ranking_maccs']\n",
    "        df[task_name][num]['maxmin_dissim_ranking_ecfp'] = df[task_name]['_1']['maxmin_dissim_ranking_ecfp']"
   ]
  },
  {
   "cell_type": "markdown",
   "metadata": {},
   "source": [
    "# Caluculate Wasserstein Distances"
   ]
  },
  {
   "cell_type": "code",
   "execution_count": 10,
   "metadata": {},
   "outputs": [],
   "source": [
    "# make new dataframe, wasserstein_distances.\n",
    "wasserstein_distances = pd.DataFrame([])\n",
    "gnn_based = ['logdet_ranking', 'maxsum_dissim_ranking', 'maxmin_dissim_ranking', 'random_ranking']\n",
    "binary_based = ['maxsum_dissim_ranking_maccs', 'maxmin_dissim_ranking_maccs', 'maxsum_dissim_ranking_ecfp', 'maxmin_dissim_ranking_ecfp']\n",
    "wasser_based = ['wgreedy_ranking']\n",
    "\n",
    "for task in tasks:\n",
    "    distances = dfs2wds(df[task], gnn_based, n_select, properties[task])\n",
    "    wasserstein_distances = pd.concat([wasserstein_distances, distances])\n",
    "\n",
    "    distances = dfs2wds(df[task+'_normalize'], gnn_based, n_select, properties[task])\n",
    "    distances['method'] = distances['method'].apply(lambda x: x+'_normalize')\n",
    "    wasserstein_distances = pd.concat([wasserstein_distances, distances])\n",
    "\n",
    "    distances = dfs2wds(df[task], binary_based, n_select, properties[task])\n",
    "    wasserstein_distances = pd.concat([wasserstein_distances, distances])\n",
    "\n",
    "    distances = dfs2wds(df[task], wasser_based, n_select, properties[task])\n",
    "    wasserstein_distances = pd.concat([wasserstein_distances, distances])"
   ]
  },
  {
   "cell_type": "code",
   "execution_count": 4,
   "metadata": {},
   "outputs": [],
   "source": [
    "# add random mean values for rescaling\n",
    "wasserstein_distances['random_average'] = 0\n",
    "for task in tasks:\n",
    "    for prop in properties[task]:\n",
    "        random_average = wasserstein_distances[(wasserstein_distances['property'] == prop) & (wasserstein_distances['method'] == 'random_ranking')]['distance'].mean()\n",
    "        wasserstein_distances.loc[wasserstein_distances['property'] == prop, 'random_average'] = random_average\n",
    "\n",
    "wasserstein_distances['scaled_distance'] = wasserstein_distances['distance'] / wasserstein_distances['random_average']"
   ]
  },
  {
   "cell_type": "code",
   "execution_count": 5,
   "metadata": {},
   "outputs": [],
   "source": [
    "# save wdud values\n",
    "pickle.dump(wasserstein_distances, open( \"./evaluation/wdud_values_others.p\", \"wb\" ))\n",
    "\n",
    "df_mean = wasserstein_distances.groupby(['method', 'property']).mean()\n",
    "df_mean.to_csv(\"./evaluation/wdud_mean_others.csv\")\n",
    "\n",
    "df_std = wasserstein_distances.groupby(['method', 'property']).std()\n",
    "df_std.to_csv(\"./evaluation/wdud_std_others.csv\")"
   ]
  },
  {
   "cell_type": "markdown",
   "metadata": {},
   "source": [
    "# Barplot Wasserstein Distances"
   ]
  },
  {
   "cell_type": "code",
   "execution_count": 11,
   "metadata": {},
   "outputs": [],
   "source": [
    "with open('./evaluation/wdud_values_others.p', 'rb') as f:\n",
    "    wasserstein_distances = pickle.load(f)\n",
    "\n",
    "main_method_labels = ['SubMo-GNN', 'MS-MK', 'MM-MK', 'MS-EF', 'MM-EF', 'WG-GNN', 'Random']\n",
    "ablation_method_labels = ['SubMo w/o N', 'SubMo w/ N', 'MS w/o N', 'MS w/ N', 'MM w/o N', 'MM w/ N', 'Random']"
   ]
  },
  {
   "cell_type": "code",
   "execution_count": null,
   "metadata": {},
   "outputs": [],
   "source": [
    "methods = ['logdet_ranking_normalize', 'maxsum_dissim_ranking_maccs', 'maxmin_dissim_ranking_maccs', 'maxsum_dissim_ranking_ecfp', 'maxmin_dissim_ranking_ecfp', 'wgreedy_ranking', 'random_ranking']\n",
    "plotdf = wasserstein_distances[wasserstein_distances['method'].isin(methods)]\n",
    "\n",
    "properties_lists = [\n",
    "    ['measured log solubility in mols per litre', 'expt', 'exp'],\n",
    "]\n",
    "\n",
    "property_labels_lists = [\n",
    "    ['ESOL', 'SAMPL', 'Lipophilicity'],  \n",
    "]\n",
    "\n",
    "for i in range(1):\n",
    "    properties = properties_lists[i]\n",
    "    property_labels = property_labels_lists[i]\n",
    "    plotdf_i = plotdf[plotdf['property'].isin(properties)]\n",
    "\n",
    "    plt.clf()\n",
    "    sns.set(font_scale=2)\n",
    "    plt.figure(figsize=(20, 6))\n",
    "    ax = sns.barplot(x=\"property\", y=\"scaled_distance\", hue='method',hue_order=methods, ci='sd', data=plotdf_i)\n",
    "    ax.set(ylabel='WDUD (rescaled)', xlabel='Property')\n",
    "    ax.set_xticklabels(property_labels)\n",
    "    handles, labels = ax.get_legend_handles_labels()\n",
    "    ax.legend(handles=handles, labels=main_method_labels, loc = 'lower right', ncol=3)\n",
    "    plt.tight_layout(pad=0,w_pad=0, h_pad=0)\n",
    "    plt.savefig('./evaluation/weval_main_{}_others.png'.format(i+1))\n",
    "#plt.show()"
   ]
  },
  {
   "cell_type": "markdown",
   "metadata": {},
   "source": [
    "# Caluculate MPD"
   ]
  },
  {
   "cell_type": "code",
   "execution_count": 13,
   "metadata": {},
   "outputs": [],
   "source": [
    "mpds = pd.DataFrame([])\n",
    "\n",
    "gnn_based = ['logdet_ranking', 'maxsum_dissim_ranking', 'maxmin_dissim_ranking', 'random_ranking']\n",
    "binary_based = ['maxsum_dissim_ranking_maccs', 'maxmin_dissim_ranking_maccs', 'maxsum_dissim_ranking_ecfp', 'maxmin_dissim_ranking_ecfp']\n",
    "wasser_based = ['wgreedy_ranking']\n",
    "\n",
    "for task in tasks:\n",
    "    mpds = pd.concat([mpds, dfs2mpd(df[task], gnn_based, n_select, task)])\n",
    "\n",
    "    mpd = dfs2mpd(df[task+'_normalize'], gnn_based, n_select, task)\n",
    "    mpd['method'] = mpd['method'].apply(lambda x: x+'_normalize')\n",
    "    mpds = pd.concat([mpds, mpd])\n",
    "\n",
    "    mpds = pd.concat([mpds, dfs2mpd(df[task], binary_based, n_select, task)])\n",
    "    mpds = pd.concat([mpds, dfs2mpd(df[task], wasser_based, n_select, task)])"
   ]
  },
  {
   "cell_type": "code",
   "execution_count": 14,
   "metadata": {},
   "outputs": [
    {
     "data": {
      "text/html": [
       "<div>\n",
       "<style scoped>\n",
       "    .dataframe tbody tr th:only-of-type {\n",
       "        vertical-align: middle;\n",
       "    }\n",
       "\n",
       "    .dataframe tbody tr th {\n",
       "        vertical-align: top;\n",
       "    }\n",
       "\n",
       "    .dataframe thead th {\n",
       "        text-align: right;\n",
       "    }\n",
       "</style>\n",
       "<table border=\"1\" class=\"dataframe\">\n",
       "  <thead>\n",
       "    <tr style=\"text-align: right;\">\n",
       "      <th></th>\n",
       "      <th>method</th>\n",
       "      <th>fingerprint</th>\n",
       "      <th>task</th>\n",
       "      <th>mpd</th>\n",
       "      <th>num</th>\n",
       "    </tr>\n",
       "  </thead>\n",
       "  <tbody>\n",
       "    <tr>\n",
       "      <th>0</th>\n",
       "      <td>logdet_ranking</td>\n",
       "      <td>maccs</td>\n",
       "      <td>delaney</td>\n",
       "      <td>0.822897</td>\n",
       "      <td>_1</td>\n",
       "    </tr>\n",
       "    <tr>\n",
       "      <th>1</th>\n",
       "      <td>maxsum_dissim_ranking</td>\n",
       "      <td>maccs</td>\n",
       "      <td>delaney</td>\n",
       "      <td>0.851041</td>\n",
       "      <td>_1</td>\n",
       "    </tr>\n",
       "    <tr>\n",
       "      <th>2</th>\n",
       "      <td>maxmin_dissim_ranking</td>\n",
       "      <td>maccs</td>\n",
       "      <td>delaney</td>\n",
       "      <td>0.788990</td>\n",
       "      <td>_1</td>\n",
       "    </tr>\n",
       "    <tr>\n",
       "      <th>3</th>\n",
       "      <td>random_ranking</td>\n",
       "      <td>maccs</td>\n",
       "      <td>delaney</td>\n",
       "      <td>0.826316</td>\n",
       "      <td>_1</td>\n",
       "    </tr>\n",
       "    <tr>\n",
       "      <th>0</th>\n",
       "      <td>logdet_ranking</td>\n",
       "      <td>ecfp</td>\n",
       "      <td>delaney</td>\n",
       "      <td>0.935376</td>\n",
       "      <td>_1</td>\n",
       "    </tr>\n",
       "    <tr>\n",
       "      <th>...</th>\n",
       "      <td>...</td>\n",
       "      <td>...</td>\n",
       "      <td>...</td>\n",
       "      <td>...</td>\n",
       "      <td>...</td>\n",
       "    </tr>\n",
       "    <tr>\n",
       "      <th>0</th>\n",
       "      <td>wgreedy_ranking</td>\n",
       "      <td>ecfp</td>\n",
       "      <td>lipo</td>\n",
       "      <td>0.857766</td>\n",
       "      <td>_3</td>\n",
       "    </tr>\n",
       "    <tr>\n",
       "      <th>0</th>\n",
       "      <td>wgreedy_ranking</td>\n",
       "      <td>maccs</td>\n",
       "      <td>lipo</td>\n",
       "      <td>0.580470</td>\n",
       "      <td>_4</td>\n",
       "    </tr>\n",
       "    <tr>\n",
       "      <th>0</th>\n",
       "      <td>wgreedy_ranking</td>\n",
       "      <td>ecfp</td>\n",
       "      <td>lipo</td>\n",
       "      <td>0.865275</td>\n",
       "      <td>_4</td>\n",
       "    </tr>\n",
       "    <tr>\n",
       "      <th>0</th>\n",
       "      <td>wgreedy_ranking</td>\n",
       "      <td>maccs</td>\n",
       "      <td>lipo</td>\n",
       "      <td>0.607150</td>\n",
       "      <td>_5</td>\n",
       "    </tr>\n",
       "    <tr>\n",
       "      <th>0</th>\n",
       "      <td>wgreedy_ranking</td>\n",
       "      <td>ecfp</td>\n",
       "      <td>lipo</td>\n",
       "      <td>0.866070</td>\n",
       "      <td>_5</td>\n",
       "    </tr>\n",
       "  </tbody>\n",
       "</table>\n",
       "<p>390 rows × 5 columns</p>\n",
       "</div>"
      ],
      "text/plain": [
       "                   method fingerprint     task       mpd num\n",
       "0          logdet_ranking       maccs  delaney  0.822897  _1\n",
       "1   maxsum_dissim_ranking       maccs  delaney  0.851041  _1\n",
       "2   maxmin_dissim_ranking       maccs  delaney  0.788990  _1\n",
       "3          random_ranking       maccs  delaney  0.826316  _1\n",
       "0          logdet_ranking        ecfp  delaney  0.935376  _1\n",
       "..                    ...         ...      ...       ...  ..\n",
       "0         wgreedy_ranking        ecfp     lipo  0.857766  _3\n",
       "0         wgreedy_ranking       maccs     lipo  0.580470  _4\n",
       "0         wgreedy_ranking        ecfp     lipo  0.865275  _4\n",
       "0         wgreedy_ranking       maccs     lipo  0.607150  _5\n",
       "0         wgreedy_ranking        ecfp     lipo  0.866070  _5\n",
       "\n",
       "[390 rows x 5 columns]"
      ]
     },
     "execution_count": 14,
     "metadata": {},
     "output_type": "execute_result"
    }
   ],
   "source": [
    "mpds"
   ]
  },
  {
   "cell_type": "code",
   "execution_count": 7,
   "metadata": {},
   "outputs": [],
   "source": [
    "pickle.dump(mpds, open( \"./evaluation/mpd_values_others.p\", \"wb\" ))\n",
    "\n",
    "df_mean = mpds.groupby(['method', 'fingerprint']).mean()\n",
    "df_mean.to_csv(\"./evaluation/mpd_mean_others.csv\")\n",
    "\n",
    "df_std = mpds.groupby(['method', 'fingerprint']).std()\n",
    "df_std.to_csv(\"./evaluation/mpd_std_others.csv\")"
   ]
  },
  {
   "cell_type": "markdown",
   "metadata": {},
   "source": [
    "# Barplot MPD"
   ]
  },
  {
   "cell_type": "code",
   "execution_count": 18,
   "metadata": {},
   "outputs": [],
   "source": [
    "with open('./evaluation/mpd_values_others.p', 'rb') as f:\n",
    "    mpds = pickle.load(f)\n",
    "\n",
    "mpds['fingerprint'] = mpds['task']+' '+mpds['fingerprint']"
   ]
  },
  {
   "cell_type": "code",
   "execution_count": null,
   "metadata": {},
   "outputs": [],
   "source": [
    "methods = ['logdet_ranking_normalize', 'maxsum_dissim_ranking_maccs', 'maxmin_dissim_ranking_maccs', 'maxsum_dissim_ranking_ecfp', 'maxmin_dissim_ranking_ecfp', 'wgreedy_ranking', 'random_ranking']\n",
    "main_method_labels = ['SUBMO-GNN', 'MS-MK', 'MM-MK', 'MS-EF', 'MM-EF', 'WG-GNN', 'RANDOM']\n",
    "plotdf = mpds[mpds['method'].isin(methods)]\n",
    "\n",
    "\n",
    "plt.clf()\n",
    "sns.set(font_scale=2)\n",
    "plt.figure(figsize=(20, 6))\n",
    "ax = sns.barplot(x=\"fingerprint\", y=\"mpd\", hue='method',hue_order=methods, ci='sd', data=plotdf)\n",
    "ax.set(ylabel='Value', xlabel='')\n",
    "ax.set_xticklabels(['MPD-ESOL-MK', 'MPD-ESOL-EF', 'MPD-SAMPL-MK', 'MPD-SAMPL-EF', 'MPD-Lipophilicity-MK', 'MPD-Lipophilicity-EF'])\n",
    "handles, labels = ax.get_legend_handles_labels()\n",
    "ax.legend(handles=handles, labels=main_method_labels, loc = 'lower right', ncol=2)\n",
    "plt.ylim([.5, 1])\n",
    "#plt.tight_layout(pad=0,w_pad=0, h_pad=0)\n",
    "plt.tight_layout()\n",
    "plt.savefig('./evaluation/mpd_eval_others.png')\n",
    "#plt.show()"
   ]
  },
  {
   "cell_type": "code",
   "execution_count": null,
   "metadata": {},
   "outputs": [],
   "source": []
  },
  {
   "cell_type": "code",
   "execution_count": null,
   "metadata": {},
   "outputs": [],
   "source": []
  },
  {
   "cell_type": "code",
   "execution_count": null,
   "metadata": {},
   "outputs": [],
   "source": []
  }
 ],
 "metadata": {
  "interpreter": {
   "hash": "31151defd8be7a1099b700cf467fba01da083eb76ce887e632fe5b3fcf6beb70"
  },
  "kernelspec": {
   "display_name": "Python 3.7.10 64-bit ('my-rdkit-env': conda)",
   "name": "python3"
  },
  "language_info": {
   "codemirror_mode": {
    "name": "ipython",
    "version": 3
   },
   "file_extension": ".py",
   "mimetype": "text/x-python",
   "name": "python",
   "nbconvert_exporter": "python",
   "pygments_lexer": "ipython3",
   "version": "3.7.10"
  },
  "orig_nbformat": 2
 },
 "nbformat": 4,
 "nbformat_minor": 2
}
